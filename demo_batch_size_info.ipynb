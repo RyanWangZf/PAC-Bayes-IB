{
 "cells": [
  {
   "cell_type": "markdown",
   "id": "989255aa",
   "metadata": {},
   "source": [
    "## This notebook provides the reproduction of Fig. 5 in the paper: information in weights (IIW) with varying batch size."
   ]
  },
  {
   "cell_type": "code",
   "execution_count": 1,
   "id": "fe2e76ef",
   "metadata": {},
   "outputs": [],
   "source": [
    "import numpy as np\n",
    "import pandas as pd\n",
    "import torch\n",
    "import matplotlib.pyplot as plt\n",
    "import pdb\n",
    "import os\n",
    "from collections import defaultdict\n",
    "from tqdm import tqdm\n",
    "import torch.optim as optim\n",
    "import torch.nn.functional as F\n",
    "from torch import nn\n",
    "\n",
    "from src.models import MLP\n",
    "from src.dataset import load_data\n",
    "from src.pib_utils import train\n",
    "from src.utils import plot_info_acc, plot_info, train_track_info\n",
    "from src.utils import img_preprocess, setup_seed, predict, eval_metric, feature_map_size\n",
    "\n",
    "use_gpu = True if torch.cuda.is_available() else False\n",
    "__fig_dir__ = './figure'\n",
    "if not os.path.exists(__fig_dir__):\n",
    "    os.makedirs(__fig_dir__)"
   ]
  },
  {
   "cell_type": "code",
   "execution_count": 2,
   "id": "1e2a12c7",
   "metadata": {},
   "outputs": [
    {
     "name": "stdout",
     "output_type": "stream",
     "text": [
      "load from MNIST\n",
      "Extracting ./data\\train-images-idx3-ubyte.gz\n",
      "Extracting ./data\\train-labels-idx1-ubyte.gz\n",
      "Extracting ./data\\t10k-images-idx3-ubyte.gz\n",
      "Extracting ./data\\t10k-labels-idx1-ubyte.gz\n"
     ]
    },
    {
     "name": "stderr",
     "output_type": "stream",
     "text": [
      "D:\\PAC-Bayes IB\\PAC-Bayes-IB\\src\\utils.py:23: UserWarning: The given NumPy array is not writeable, and PyTorch does not support non-writeable tensors. This means you can write to the underlying (supposedly non-writeable) NumPy array using the tensor. You may want to copy the array to protect its data or make it writeable before converting it to a tensor. This type of warning will be suppressed for the rest of this program. (Triggered internally at  ..\\torch\\csrc\\utils\\tensor_numpy.cpp:180.)\n",
      "  y = torch.LongTensor(y)\n"
     ]
    }
   ],
   "source": [
    "__data_set__ = 'mnist'\n",
    "x_tr, y_tr, x_va, y_va, x_te, y_te = load_data(__data_set__)\n",
    "all_tr_idx = np.arange(len(x_tr))\n",
    "num_class = np.unique(y_va).shape[0]\n",
    "x_tr, y_tr = img_preprocess(x_tr, y_tr, use_gpu)\n",
    "x_va, y_va = img_preprocess(x_va, y_va, use_gpu)\n",
    "x_te, y_te = img_preprocess(x_te, y_te, use_gpu)\n",
    "setup_seed(2020)\n",
    "__layers__ = [512,]"
   ]
  },
  {
   "cell_type": "code",
   "execution_count": 3,
   "id": "e93062b1",
   "metadata": {},
   "outputs": [
    {
     "name": "stdout",
     "output_type": "stream",
     "text": [
      "torch.Size([55000, 784])\n"
     ]
    }
   ],
   "source": [
    "print(x_tr.shape)\n",
    "info_bs_list = []\n",
    "train_acc_bs_list = []\n",
    "test_acc_bs_list = []\n",
    "info_df_list = []\n",
    "loss_acc_list_list = []"
   ]
  },
  {
   "cell_type": "code",
   "execution_count": 4,
   "id": "b67df34a",
   "metadata": {},
   "outputs": [
    {
     "name": "stdout",
     "output_type": "stream",
     "text": [
      "##############################\n",
      "batch size: 4\n",
      "##############################\n"
     ]
    },
    {
     "name": "stderr",
     "output_type": "stream",
     "text": [
      "100%|██████████████████████████████████████████████████████████████████████████████████| 10/10 [00:01<00:00,  8.15it/s]\n"
     ]
    },
    {
     "name": "stdout",
     "output_type": "stream",
     "text": [
      "initialize model weights.\n",
      "done get prior weights\n",
      "finish training and tracking\n"
     ]
    }
   ],
   "source": [
    "print('###'*10)\n",
    "print('batch size: 4')\n",
    "print('###'*10)\n",
    "model = MLP(num_class, 'relu', layers=__layers__)\n",
    "if use_gpu:\n",
    "    model.cuda()\n",
    "model.use_gpu = use_gpu\n",
    "\n",
    "# get prior on the validation set\n",
    "train(model, np.arange(len(y_va)), x_va, y_va, x_va, y_va, num_epoch=10, batch_size=128, lr=1e-3, weight_decay=1e-5, early_stop_ckpt_path=\"./checkpoints/mlp_prior.pth\",verbose=False)\n",
    "w0_dict = dict()\n",
    "for param in model.named_parameters():\n",
    "    w0_dict[param[0]] = param[1].clone().detach() # detach but still on gpu\n",
    "model.w0_dict = w0_dict\n",
    "model._initialize_weights()\n",
    "print(\"done get prior weights\")\n",
    "\n",
    "info_dict, loss_acc_list = train_track_info(model, all_tr_idx, x_tr, y_tr, x_va, y_va, \n",
    "                                            num_epoch=10,\n",
    "                                            batch_size=4, \n",
    "                                            lr=1e-3,\n",
    "                                            weight_decay=0,\n",
    "                                            track_info_per_iter=100,\n",
    "                                            verbose=False,)\n",
    "print(\"finish training and tracking\")\n",
    "# plot_info_acc(info_dict, loss_acc_list, 'bs32', __fig_dir__)\n",
    "\n",
    "# save info\n",
    "df_info = pd.DataFrame(info_dict)\n",
    "info_bs_list.append(df_info.mean(1).mean())\n",
    "train_acc_bs_list.append(max(loss_acc_list['tr_acc']))\n",
    "test_acc_bs_list.append(max(loss_acc_list['va_acc']))\n",
    "info_df_list.append(df_info)\n",
    "loss_acc_list_list.append(loss_acc_list)"
   ]
  },
  {
   "cell_type": "code",
   "execution_count": 5,
   "id": "cc91c0a4",
   "metadata": {},
   "outputs": [
    {
     "name": "stdout",
     "output_type": "stream",
     "text": [
      "##############################\n",
      "batch size: 16\n",
      "##############################\n"
     ]
    },
    {
     "name": "stderr",
     "output_type": "stream",
     "text": [
      "100%|██████████████████████████████████████████████████████████████████████████████████| 10/10 [00:00<00:00, 15.86it/s]\n"
     ]
    },
    {
     "name": "stdout",
     "output_type": "stream",
     "text": [
      "initialize model weights.\n",
      "done get prior weights\n",
      "finish training and tracking\n"
     ]
    }
   ],
   "source": [
    "print('###'*10)\n",
    "print('batch size: 16')\n",
    "print('###'*10)\n",
    "model = MLP(num_class, 'relu', layers=__layers__)\n",
    "if use_gpu:\n",
    "    model.cuda()\n",
    "model.use_gpu = use_gpu\n",
    "\n",
    "# get prior on the validation set\n",
    "train(model, np.arange(len(y_va)), x_va, y_va, x_va, y_va, num_epoch=10, batch_size=128, lr=1e-3, weight_decay=1e-5, early_stop_ckpt_path=\"./checkpoints/mlp_prior.pth\",verbose=False)\n",
    "w0_dict = dict()\n",
    "for param in model.named_parameters():\n",
    "    w0_dict[param[0]] = param[1].clone().detach() # detach but still on gpu\n",
    "model.w0_dict = w0_dict\n",
    "model._initialize_weights()\n",
    "print(\"done get prior weights\")\n",
    "\n",
    "info_dict, loss_acc_list = train_track_info(model, all_tr_idx, x_tr, y_tr, x_va, y_va, \n",
    "                                            num_epoch=int((55000/4 * 10) / (55000/16)),\n",
    "                                            batch_size=16, \n",
    "                                            lr=1e-3,\n",
    "                                            weight_decay=0,\n",
    "                                            track_info_per_iter=100,\n",
    "                                            verbose=False,)\n",
    "print(\"finish training and tracking\")\n",
    "# plot_info_acc(info_dict, loss_acc_list, 'bs128', __fig_dir__)\n",
    "\n",
    "# save info\n",
    "df_info = pd.DataFrame(info_dict)\n",
    "info_bs_list.append(df_info.mean(1).mean())\n",
    "train_acc_bs_list.append(max(loss_acc_list['tr_acc']))\n",
    "test_acc_bs_list.append(max(loss_acc_list['va_acc']))\n",
    "info_df_list.append(df_info)\n",
    "loss_acc_list_list.append(loss_acc_list)"
   ]
  },
  {
   "cell_type": "code",
   "execution_count": 6,
   "id": "11edbd48",
   "metadata": {},
   "outputs": [
    {
     "name": "stdout",
     "output_type": "stream",
     "text": [
      "##############################\n",
      "batch size: 64\n",
      "##############################\n"
     ]
    },
    {
     "name": "stderr",
     "output_type": "stream",
     "text": [
      "100%|██████████████████████████████████████████████████████████████████████████████████| 10/10 [00:00<00:00, 15.67it/s]\n"
     ]
    },
    {
     "name": "stdout",
     "output_type": "stream",
     "text": [
      "initialize model weights.\n",
      "done get prior weights\n",
      "finish training and tracking\n"
     ]
    }
   ],
   "source": [
    "print('###'*10)\n",
    "print('batch size: 64')\n",
    "print('###'*10)\n",
    "model = MLP(num_class, 'relu', layers=__layers__)\n",
    "if use_gpu:\n",
    "    model.cuda()\n",
    "model.use_gpu = use_gpu\n",
    "\n",
    "# get prior on the validation set\n",
    "train(model, np.arange(len(y_va)), x_va, y_va, x_va, y_va, num_epoch=10, batch_size=128, lr=1e-3, weight_decay=1e-5, early_stop_ckpt_path=\"./checkpoints/mlp_prior.pth\",verbose=False)\n",
    "w0_dict = dict()\n",
    "for param in model.named_parameters():\n",
    "    w0_dict[param[0]] = param[1].clone().detach() # detach but still on gpu\n",
    "model.w0_dict = w0_dict\n",
    "model._initialize_weights()\n",
    "print(\"done get prior weights\")\n",
    "\n",
    "info_dict, loss_acc_list = train_track_info(model, all_tr_idx, x_tr, y_tr, x_va, y_va, \n",
    "                                            num_epoch=int((55000/4 * 10) / (55000/64)),\n",
    "                                            batch_size=64, \n",
    "                                            lr=1e-3,\n",
    "                                            weight_decay=0,\n",
    "                                            track_info_per_iter=100,\n",
    "                                            verbose=False,)\n",
    "print(\"finish training and tracking\")\n",
    "# plot_info_acc(info_dict, loss_acc_list, 'bs512', __fig_dir__)\n",
    "\n",
    "# save info\n",
    "df_info = pd.DataFrame(info_dict)\n",
    "info_bs_list.append(df_info.mean(1).mean())\n",
    "train_acc_bs_list.append(max(loss_acc_list['tr_acc']))\n",
    "test_acc_bs_list.append(max(loss_acc_list['va_acc']))\n",
    "info_df_list.append(df_info)\n",
    "loss_acc_list_list.append(loss_acc_list)"
   ]
  },
  {
   "cell_type": "code",
   "execution_count": 7,
   "id": "41bd3b43",
   "metadata": {},
   "outputs": [
    {
     "name": "stdout",
     "output_type": "stream",
     "text": [
      "##############################\n",
      "batch size: 256\n",
      "##############################\n"
     ]
    },
    {
     "name": "stderr",
     "output_type": "stream",
     "text": [
      "100%|██████████████████████████████████████████████████████████████████████████████████| 10/10 [00:00<00:00, 15.84it/s]\n"
     ]
    },
    {
     "name": "stdout",
     "output_type": "stream",
     "text": [
      "initialize model weights.\n",
      "done get prior weights\n",
      "finish training and tracking\n"
     ]
    }
   ],
   "source": [
    "print('###'*10)\n",
    "print('batch size: 256')\n",
    "print('###'*10)\n",
    "model = MLP(num_class, 'relu', layers=__layers__)\n",
    "if use_gpu:\n",
    "    model.cuda()\n",
    "model.use_gpu = use_gpu\n",
    "\n",
    "# get prior on the validation set\n",
    "train(model, np.arange(len(y_va)), x_va, y_va, x_va, y_va, num_epoch=10, batch_size=128, lr=1e-3, weight_decay=1e-5, early_stop_ckpt_path=\"./checkpoints/mlp_prior.pth\",verbose=False)\n",
    "w0_dict = dict()\n",
    "for param in model.named_parameters():\n",
    "    w0_dict[param[0]] = param[1].clone().detach() # detach but still on gpu\n",
    "model.w0_dict = w0_dict\n",
    "model._initialize_weights()\n",
    "print(\"done get prior weights\")\n",
    "\n",
    "info_dict, loss_acc_list = train_track_info(model, all_tr_idx, x_tr, y_tr, x_va, y_va, \n",
    "                                            num_epoch=int((55000/4 * 10) / (55000/256)), # = (55000/32 * 10) / (55000/1024)\n",
    "                                            batch_size=256,\n",
    "                                            lr=1e-3,\n",
    "                                            weight_decay=0,\n",
    "                                            track_info_per_iter=100,\n",
    "                                            verbose=False,)\n",
    "print(\"finish training and tracking\")\n",
    "# plot_info_acc(info_dict, loss_acc_list, 'bs1024', __fig_dir__)\n",
    "\n",
    "# save info\n",
    "df_info = pd.DataFrame(info_dict)\n",
    "info_bs_list.append(df_info.mean(1).mean())\n",
    "train_acc_bs_list.append(max(loss_acc_list['tr_acc']))\n",
    "test_acc_bs_list.append(max(loss_acc_list['va_acc']))\n",
    "info_df_list.append(df_info)\n",
    "loss_acc_list_list.append(loss_acc_list)"
   ]
  },
  {
   "cell_type": "code",
   "execution_count": 8,
   "id": "3afe0bdc",
   "metadata": {},
   "outputs": [
    {
     "name": "stdout",
     "output_type": "stream",
     "text": [
      "infomation in weights!\n",
      "[7.810381202943972e-05, 6.223292584763839e-05, 8.20052286144346e-05, 8.663371609145543e-05]\n"
     ]
    }
   ],
   "source": [
    "batch_size_list = [4, 16, 64, 256]\n",
    "info_list = []\n",
    "for i in range(4):\n",
    "    best_va_idx = np.argmax(loss_acc_list_list[i]['va_acc'])\n",
    "    best_iter = int(best_va_idx * 55000 / (batch_size_list[i]*100))\n",
    "    info = info_df_list[i].iloc[best_iter-10:best_iter+10].mean(1).mean(0)\n",
    "    info_list.append(info)\n",
    "\n",
    "print('infomation in weights!')\n",
    "print(info_list)"
   ]
  },
  {
   "cell_type": "code",
   "execution_count": 9,
   "id": "8904de7f",
   "metadata": {},
   "outputs": [
    {
     "name": "stdout",
     "output_type": "stream",
     "text": [
      "last acc gap!\n",
      "[0.035345494747161865, 0.02954542636871338, 0.06040000915527344, 0.06300002336502075]\n"
     ]
    }
   ],
   "source": [
    "acc_gap = [x-y for x,y in zip(train_acc_bs_list, test_acc_bs_list)]\n",
    "print('last acc gap!')\n",
    "print(acc_gap)"
   ]
  },
  {
   "cell_type": "markdown",
   "id": "ec656c71",
   "metadata": {},
   "source": [
    "## plot the IIW against batch size"
   ]
  },
  {
   "cell_type": "code",
   "execution_count": 10,
   "id": "ba0ddd20",
   "metadata": {},
   "outputs": [
    {
     "data": {
      "image/png": "[encoded data removed]",
      "text/plain": [
       "<Figure size 1008x360 with 2 Axes>"
      ]
     },
     "metadata": {
      "needs_background": "light"
     },
     "output_type": "display_data"
    }
   ],
   "source": [
    "batch_size_list = [\"4\",\"16\",\"64\",\"256\"]\n",
    "figs, axs = plt.subplots(1,2,figsize=(14,5))\n",
    "plt.style.use(['science','nature'])\n",
    "ax = axs[0]\n",
    "ax.plot(batch_size_list, train_acc_bs_list, label=\"train acc\",color=\"green\",marker=\"^\", lw=2)\n",
    "ax.plot(batch_size_list, test_acc_bs_list,label=\"test acc\",color=\"red\",marker=\"^\",linestyle=\"--\", lw=2)\n",
    "ax.set_ylabel(\"acc\",size=28)\n",
    "ax.set_xlabel(\"number of batch size\",size=28)\n",
    "ax.legend(fontsize=28)\n",
    "ax.set_title(\"train/test acc to batch size\", size=28)\n",
    "ax.tick_params(labelsize=24)\n",
    "ax.set_ylim(0.8,1.005)\n",
    "ax.set_yticks([0.8,0.9,1.0])\n",
    "\n",
    "ax1 = axs[1]\n",
    "lns1 = ax1.plot(batch_size_list, info_list, label=\"IIW\",color=\"blue\",marker=\"o\", lw=2)\n",
    "ax1.set_xlabel(\"number of batch size\",size=28)\n",
    "ax1.set_ylabel(\"IIW\",size=28)\n",
    "ax1.tick_params(labelsize=24)\n",
    "\n",
    "ax1.yaxis.offsetText.set_fontsize(20)\n",
    "ax1.yaxis.get_major_formatter().set_powerlimits((0,1))\n",
    "lns = lns1\n",
    "labs = [l.get_label() for l in lns]\n",
    "ax1.legend(lns, labs, loc=\"center right\", fontsize=28)\n",
    "ax1.set_title(\"IIW to batch size\", size=28)\n",
    "\n",
    "plt.tight_layout()\n",
    "plt.savefig(os.path.join(__fig_dir__,\"info_batch_size.pdf\"),bbox_inches = 'tight')\n",
    "plt.show()"
   ]
  },
  {
   "cell_type": "markdown",
   "id": "e444eddf",
   "metadata": {},
   "source": [
    "## We can see that when bs=16 the acc gap is the smallest. Simultaneously, the IIW gets to the bottom!"
   ]
  },
  {
   "cell_type": "code",
   "execution_count": null,
   "id": "04c9c75a",
   "metadata": {},
   "outputs": [],
   "source": []
  }
 ],
 "metadata": {
  "kernelspec": {
   "display_name": "Python 3 (ipykernel)",
   "language": "python",
   "name": "python3"
  },
  "language_info": {
   "codemirror_mode": {
    "name": "ipython",
    "version": 3
   },
   "file_extension": ".py",
   "mimetype": "text/x-python",
   "name": "python",
   "nbconvert_exporter": "python",
   "pygments_lexer": "ipython3",
   "version": "3.9.7"
  }
 },
 "nbformat": 4,
 "nbformat_minor": 5
}
